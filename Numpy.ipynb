{
 "cells": [
  {
   "cell_type": "code",
   "execution_count": 1,
   "metadata": {},
   "outputs": [
    {
     "name": "stdout",
     "output_type": "stream",
     "text": [
      "[0 1 2 3 4 5]\n"
     ]
    },
    {
     "data": {
      "text/plain": [
       "numpy.ndarray"
      ]
     },
     "execution_count": 1,
     "metadata": {},
     "output_type": "execute_result"
    }
   ],
   "source": [
    "#Q1:- Create a numpy array 'arr' of integer form 0 to 5 and print its data type.?\n",
    "\n",
    "import numpy as np\n",
    "arr=np.array([0,1,2,3,4,5])\n",
    "print(arr)\n",
    "type(arr)"
   ]
  },
  {
   "cell_type": "code",
   "execution_count": 6,
   "metadata": {},
   "outputs": [
    {
     "name": "stdout",
     "output_type": "stream",
     "text": [
      "<class 'numpy.ndarray'>\n",
      "float64\n"
     ]
    }
   ],
   "source": [
    "#Q2:- Given a Numpy array 'arr' , check if its data type is float64.\n",
    "# arr=np.array([1.5,2.6,3.7])\n",
    "import numpy as np\n",
    "arr=np.array([1.5,2.6,3.7])\n",
    "print(type(arr))\n",
    "print(arr.dtype)"
   ]
  },
  {
   "cell_type": "code",
   "execution_count": 14,
   "metadata": {},
   "outputs": [
    {
     "data": {
      "text/plain": [
       "array([1.+2.j, 2.+3.j, 4.+5.j])"
      ]
     },
     "execution_count": 14,
     "metadata": {},
     "output_type": "execute_result"
    }
   ],
   "source": [
    "#Q3:- Create anumpy array 'arr' with a data type  of complex128 containing three complex numbers.\n",
    "import numpy as np\n",
    "arr=np.array([1 + 2j, 2 + 3j, 4 + 5j], dtype=np.complex128)\n",
    "arr\n"
   ]
  },
  {
   "cell_type": "code",
   "execution_count": 17,
   "metadata": {},
   "outputs": [
    {
     "name": "stdout",
     "output_type": "stream",
     "text": [
      "float32\n"
     ]
    }
   ],
   "source": [
    "#Q4:- 4. Convert an existing Numpy array 'arr' of integers to foat32 data type.\n",
    "import numpy as np\n",
    "arr=np.array([1,2,3,4,45])\n",
    "arr_float=arr.astype(np.float32)\n",
    "print(arr_float.dtype)\n"
   ]
  },
  {
   "cell_type": "code",
   "execution_count": 2,
   "metadata": {},
   "outputs": [
    {
     "name": "stdout",
     "output_type": "stream",
     "text": [
      "float32\n",
      "[ 1.  2.  3.  4. 45.]\n",
      "\n",
      "float64\n",
      "[ 1.  2.  3.  4. 45.]\n"
     ]
    }
   ],
   "source": [
    "#Q5:- Given a Numpy array 'arr' with float64 data type, conrt it to float32 to reduce decimal precision.\n",
    "import numpy as np\n",
    "arr=np.array([1,2,3,4,45])\n",
    "arr_float32=arr.astype(np.float32)\n",
    "print(arr_float32.dtype)\n",
    "print(arr_float32)\n",
    "print()\n",
    "arr_float64=arr.astype(np.float64)\n",
    "print(arr_float64.dtype)\n",
    "print(arr_float64)"
   ]
  },
  {
   "cell_type": "code",
   "execution_count": 15,
   "metadata": {},
   "outputs": [
    {
     "name": "stdout",
     "output_type": "stream",
     "text": [
      "1\n",
      "2\n",
      "3\n"
     ]
    }
   ],
   "source": [
    "#Q6:- write a function array_dimension that takes a numpy array as input and return its dimensionality.\n",
    "import numpy as np\n",
    "\n",
    "def array_dimension(arr):\n",
    "    return arr.ndim\n",
    "\n",
    "# Example usage:\n",
    "arr = np.array([1, 2, 3, 4, 5])\n",
    "print(array_dimension(arr))  # Output: 1\n",
    "\n",
    "arr = np.array([[1, 2], [3, 4]])\n",
    "print(array_dimension(arr))  # Output: 2\n",
    "\n",
    "arr = np.array([[[1, 2], [3, 4]], [[5, 6], [7, 8]]])\n",
    "print(array_dimension(arr))  # Output: 3"
   ]
  },
  {
   "cell_type": "code",
   "execution_count": 5,
   "metadata": {},
   "outputs": [
    {
     "name": "stdout",
     "output_type": "stream",
     "text": [
      "((5,), 5, dtype('int32'))\n",
      "((2, 2), 4, dtype('int32'))\n",
      "((2, 2, 2), 8, dtype('int32'))\n"
     ]
    }
   ],
   "source": [
    "#Q7: Create a function array_dimension that takes a numpy array as input and return the item size ,shape and data type .\n",
    "import numpy as np\n",
    "def array_dimension(arr):\n",
    "    return arr.shape,arr.size,arr.dtype\n",
    "\n",
    "# Example usage:\n",
    "arr = np.array([1, 2, 3, 4, 5])\n",
    "print(array_dimension(arr)) \n",
    "\n",
    "arr = np.array([[1, 2], [3, 4]])\n",
    "print(array_dimension(arr))  \n",
    "\n",
    "arr = np.array([[[1, 2], [3, 4]], [[5, 6], [7, 8]]])\n",
    "print(array_dimension(arr))  "
   ]
  },
  {
   "cell_type": "code",
   "execution_count": 1,
   "metadata": {},
   "outputs": [
    {
     "name": "stdout",
     "output_type": "stream",
     "text": [
      "(4, 20)\n"
     ]
    }
   ],
   "source": [
    "#Q8:- Design a function item_size_info that takes a numpy array as input and return the item size and the total size in bytes.\n",
    "import numpy as np\n",
    "def item_size_info(arr):\n",
    "    #get the item size of array\n",
    "    item_size=arr.itemsize\n",
    "    #get the total size of array\n",
    "    total_size=arr.size*item_size\n",
    "    return item_size,total_size\n",
    "\n",
    "arr = np.array([1, 2, 3, 4, 5])\n",
    "print(item_size_info(arr))"
   ]
  },
  {
   "cell_type": "code",
   "execution_count": 2,
   "metadata": {},
   "outputs": [
    {
     "data": {
      "text/plain": [
       "(12, 4)"
      ]
     },
     "execution_count": 2,
     "metadata": {},
     "output_type": "execute_result"
    }
   ],
   "source": [
    "#Q9:- create a function array_strides that takes array as input and returns the strides of the array.\n",
    "\"\"\"Strides represent the number of bytes that need to be skipped in memory to move to the next element along each dimension of the array.\"\"\"\n",
    "import numpy as np\n",
    "def array_strides(arr):\n",
    "    return arr.strides\n",
    "arr = np.array([[1, 2, 3], [4, 5, 6], [7, 8, 9]])\n",
    "array_strides(arr)"
   ]
  },
  {
   "cell_type": "code",
   "execution_count": 3,
   "metadata": {},
   "outputs": [
    {
     "data": {
      "text/plain": [
       "((3, 3), (12, 4))"
      ]
     },
     "execution_count": 3,
     "metadata": {},
     "output_type": "execute_result"
    }
   ],
   "source": [
    "#Q10:- design a function shape_stide_relationship that takes a numpy array as input and returns the shape and strides of the array.\n",
    "import numpy as np\n",
    "def shape_stide_relationship(arr):\n",
    "    return arr.shape,arr.strides\n",
    "arr = np.array([[1, 2, 3], [4, 5, 6], [7, 8, 9]])\n",
    "shape_stide_relationship(arr)"
   ]
  },
  {
   "cell_type": "code",
   "execution_count": 7,
   "metadata": {},
   "outputs": [
    {
     "data": {
      "text/plain": [
       "array([0., 0., 0., 0., 0.])"
      ]
     },
     "execution_count": 7,
     "metadata": {},
     "output_type": "execute_result"
    }
   ],
   "source": [
    "#Q11:- create a function 'create_zeros_array' the takes an integer 'n' as input and returns a numpy array of zeros with'n' elements.\n",
    "import numpy as np \n",
    "def create_zeros_array(n):\n",
    "    return np.zeros(n)\n",
    "\n",
    "n=int(input(\"Enter the number for array:\"))\n",
    "create_zeros_array(n)"
   ]
  },
  {
   "cell_type": "code",
   "execution_count": null,
   "metadata": {},
   "outputs": [],
   "source": [
    "\n",
    "\n"
   ]
  },
  {
   "cell_type": "code",
   "execution_count": 29,
   "metadata": {},
   "outputs": [
    {
     "name": "stdout",
     "output_type": "stream",
     "text": [
      "[[1. 1. 1. 1. 1. 1.]\n",
      " [1. 1. 1. 1. 1. 1.]\n",
      " [1. 1. 1. 1. 1. 1.]\n",
      " [1. 1. 1. 1. 1. 1.]\n",
      " [1. 1. 1. 1. 1. 1.]\n",
      " [1. 1. 1. 1. 1. 1.]]\n"
     ]
    }
   ],
   "source": [
    "#Q12:- Write a function 'create_ones_matrix' that takes integers 'rows' and 'cols' as input and generate as 2d numpy array filled with ones of size 'row x cols'.\n",
    "import numpy as np \n",
    "def create_ones_matrix(rows,cols):\n",
    "    return np.ones((rows,cols))\n",
    "\n",
    "rows=int(input(\"Enter the number of rows: \"))\n",
    "cols=int(input(\"Enter the number of cols: \"))\n",
    "print(create_ones_matrix(rows,cols))"
   ]
  },
  {
   "cell_type": "code",
   "execution_count": 30,
   "metadata": {},
   "outputs": [
    {
     "data": {
      "text/plain": [
       "array([ 2,  4,  6,  8, 10, 12, 14])"
      ]
     },
     "execution_count": 30,
     "metadata": {},
     "output_type": "execute_result"
    }
   ],
   "source": [
    "#Q13:- Write a function 'generate_range_array' that takes three integers start , stop,and step as arguments and creates a numpy array with a range starting from 'start', ending at stop(exclusive), and with the specified 'step'.\n",
    "import numpy as np\n",
    "def generate_range_array(start,stop,step):\n",
    "    return np.arange(start,stop,step)\n",
    "\n",
    "generate_range_array(2,15,2)\n"
   ]
  },
  {
   "cell_type": "code",
   "execution_count": 52,
   "metadata": {},
   "outputs": [
    {
     "name": "stdout",
     "output_type": "stream",
     "text": [
      "5\n"
     ]
    },
    {
     "data": {
      "text/plain": [
       "array([[1., 0., 0., 0., 0.],\n",
       "       [0., 1., 0., 0., 0.],\n",
       "       [0., 0., 1., 0., 0.],\n",
       "       [0., 0., 0., 1., 0.],\n",
       "       [0., 0., 0., 0., 1.]])"
      ]
     },
     "execution_count": 52,
     "metadata": {},
     "output_type": "execute_result"
    }
   ],
   "source": [
    "#Q14:- Design a function 'create-indentity-matrix' that takes an integer n as input and generates a square identity matrix of the size nxn using  numpy.eye  ?\n",
    "import numpy as np\n",
    "def create_indentity_matrix(n):\n",
    "    return np.eye(n,n)\n",
    "\n",
    "n=int(input(\"Enter the square matrix size: \"))\n",
    "print(n)\n",
    "create_indentity_matrix(n)"
   ]
  },
  {
   "cell_type": "code",
   "execution_count": 1,
   "metadata": {},
   "outputs": [
    {
     "data": {
      "text/plain": [
       "array([2.  , 2.75, 3.5 , 4.25, 5.  ])"
      ]
     },
     "execution_count": 1,
     "metadata": {},
     "output_type": "execute_result"
    }
   ],
   "source": [
    "#Q15:- desigen a function 'generate_linear-spaces' that takes two floates start ,stop and an integer num as arguments and generates a numpy array with num equally spaced  start and stop (inclusive).\n",
    "import numpy as np\n",
    "def generate_linear_spaces(start,stop,step):\n",
    "    return np.linspace(start,stop,step)\n",
    "\n",
    "generate_linear_spaces(2.0,5.0,5)"
   ]
  },
  {
   "cell_type": "code",
   "execution_count": 2,
   "metadata": {},
   "outputs": [
    {
     "data": {
      "text/plain": [
       "array([1, 2, 3, 4, 5, 5])"
      ]
     },
     "execution_count": 2,
     "metadata": {},
     "output_type": "execute_result"
    }
   ],
   "source": [
    "#Q16:- Write a function that taked a python list and converts it into a numpy array.\n",
    "import numpy as np\n",
    "def Numpy_array(list):\n",
    "    return np.array(list)\n",
    "\n",
    "list=[1,2,3,4,5,5]\n",
    "Numpy_array(list)"
   ]
  },
  {
   "cell_type": "code",
   "execution_count": 8,
   "metadata": {},
   "outputs": [
    {
     "name": "stdout",
     "output_type": "stream",
     "text": [
      "[2 3 4 4 5]\n",
      "float32\n",
      "[3.e-45 4.e-45 6.e-45 6.e-45 7.e-45]\n"
     ]
    }
   ],
   "source": [
    "#Q17:- create a numpy array and demonstrate the use of  'numpy.view' to create array object with the same data.\n",
    "import numpy as np\n",
    "arr=np.array([2,3,4,4,5],dtype=np.int32)\n",
    "print(arr)\n",
    "\n",
    "View=arr.view(np.float32)\n",
    "print(View.dtype)\n",
    "print(View)"
   ]
  },
  {
   "cell_type": "code",
   "execution_count": 13,
   "metadata": {},
   "outputs": [
    {
     "name": "stdout",
     "output_type": "stream",
     "text": [
      "[[1 2 4 5]\n",
      " [3 4 6 7]]\n",
      "[[1 2]\n",
      " [3 4]\n",
      " [4 5]\n",
      " [6 7]]\n"
     ]
    }
   ],
   "source": [
    "#Q18:-Write a function that takes two numpy arrays and concatenates them along a specified axis.\n",
    "import numpy as np\n",
    "def concat_arrays(arr1,arr2,axis):\n",
    "    return np.concatenate((arr1,arr2),axis)\n",
    "\n",
    "arr1=np.array([[1,2],[3,4]])\n",
    "arr2=np.array([[4,5],[6,7]])\n",
    "print(concat_arrays(arr1,arr2,axis=1))\n",
    "print(concat_arrays(arr1,arr2,axis=0))"
   ]
  },
  {
   "cell_type": "code",
   "execution_count": 24,
   "metadata": {},
   "outputs": [
    {
     "name": "stdout",
     "output_type": "stream",
     "text": [
      "[[1 2 3 4 3 4]\n",
      " [3 4 5 6 5 6]]\n"
     ]
    }
   ],
   "source": [
    "import numpy as np\n",
    "\n",
    "# Create two numpy arrays with different shapes\n",
    "arr1 = np.array([[1, 2, 3, 4], [3, 4, 5, 6]])  # 2D array with shape (2, 4)\n",
    "arr2 = np.array([[3, 4], [5, 6]])  # 2D array with shape (2, 2)\n",
    "\n",
    "# Now we can concatenate them horizontally\n",
    "arr_concat = np.concatenate((arr1, arr2), axis=1)  # Concatenate horizontally (axis=1)\n",
    "\n",
    "print(arr_concat)"
   ]
  },
  {
   "cell_type": "code",
   "execution_count": 25,
   "metadata": {},
   "outputs": [
    {
     "data": {
      "text/plain": [
       "array([[2, 3],\n",
       "       [3, 4],\n",
       "       [2, 4],\n",
       "       [8, 4],\n",
       "       [5, 3],\n",
       "       [9, 4]])"
      ]
     },
     "execution_count": 25,
     "metadata": {},
     "output_type": "execute_result"
    }
   ],
   "source": [
    "#Q20:-Write a function that vertically stacks multiple numpy arrays given as a list.\n",
    "import numpy as np\n",
    "def Vertically_stack_array(arrays):\n",
    "    return np.vstack(arrays)\n",
    "\n",
    "arr1=np.array([[2,3],[3,4]])\n",
    "arr2=np.array([[2,4],[8,4]])\n",
    "arr3=np.array([[5,3],[9,4]])\n",
    "\n",
    "arrays=[arr1,arr2,arr3]\n",
    "\n",
    "Vertically_stack_array(arrays)"
   ]
  },
  {
   "cell_type": "code",
   "execution_count": 1,
   "metadata": {},
   "outputs": [
    {
     "data": {
      "text/plain": [
       "array([ 2,  5,  8, 11])"
      ]
     },
     "execution_count": 1,
     "metadata": {},
     "output_type": "execute_result"
    }
   ],
   "source": [
    "#Q21:- write a python function using numpy to create an array of integers within a specified range(inclusive) with a given step size.\n",
    "import numpy as np\n",
    "def numpy_func(start,end,step):\n",
    "    return np.arange(start,end+step,step)\n",
    "\n",
    "numpy_func(2,10,3)"
   ]
  },
  {
   "cell_type": "code",
   "execution_count": 2,
   "metadata": {},
   "outputs": [
    {
     "data": {
      "text/plain": [
       "array([0.        , 0.11111111, 0.22222222, 0.33333333, 0.44444444,\n",
       "       0.55555556, 0.66666667, 0.77777778, 0.88888889, 1.        ])"
      ]
     },
     "execution_count": 2,
     "metadata": {},
     "output_type": "execute_result"
    }
   ],
   "source": [
    "#Q22:- write a pyhton function using numpy to generate an array of 10 equally spaced between 0 and 1 (inclusive).\n",
    "import numpy as np\n",
    "def py_func(start,end,no_element):\n",
    "    return np.linspace(start,end,no_element)\n",
    "\n",
    "py_func(0,1,10)"
   ]
  },
  {
   "cell_type": "code",
   "execution_count": 2,
   "metadata": {},
   "outputs": [
    {
     "data": {
      "text/plain": [
       "array([2.00000000e+000, 3.04278602e+075, 4.62927339e+150, 7.04294419e+225,\n",
       "       1.07150861e+301])"
      ]
     },
     "execution_count": 2,
     "metadata": {},
     "output_type": "execute_result"
    }
   ],
   "source": [
    "#Q23:- write a pyhton function using numpy to create an array of 5 logarithmically spaced values between 1 and 1000(inclusive).\n",
    "import numpy as np\n",
    "def logrithmic_space_value(start,end,num_element):\n",
    "    return np.logspace(start,end,num_element,base=2)  \n",
    "\n",
    "logrithmic_space_value(1,1000,5)"
   ]
  },
  {
   "cell_type": "code",
   "execution_count": 16,
   "metadata": {},
   "outputs": [
    {
     "data": {
      "text/html": [
       "<div>\n",
       "<style scoped>\n",
       "    .dataframe tbody tr th:only-of-type {\n",
       "        vertical-align: middle;\n",
       "    }\n",
       "\n",
       "    .dataframe tbody tr th {\n",
       "        vertical-align: top;\n",
       "    }\n",
       "\n",
       "    .dataframe thead th {\n",
       "        text-align: right;\n",
       "    }\n",
       "</style>\n",
       "<table border=\"1\" class=\"dataframe\">\n",
       "  <thead>\n",
       "    <tr style=\"text-align: right;\">\n",
       "      <th></th>\n",
       "      <th>column1</th>\n",
       "      <th>column2</th>\n",
       "      <th>column3</th>\n",
       "    </tr>\n",
       "  </thead>\n",
       "  <tbody>\n",
       "    <tr>\n",
       "      <th>0</th>\n",
       "      <td>27</td>\n",
       "      <td>87</td>\n",
       "      <td>34</td>\n",
       "    </tr>\n",
       "    <tr>\n",
       "      <th>1</th>\n",
       "      <td>84</td>\n",
       "      <td>92</td>\n",
       "      <td>78</td>\n",
       "    </tr>\n",
       "    <tr>\n",
       "      <th>2</th>\n",
       "      <td>56</td>\n",
       "      <td>8</td>\n",
       "      <td>62</td>\n",
       "    </tr>\n",
       "    <tr>\n",
       "      <th>3</th>\n",
       "      <td>46</td>\n",
       "      <td>33</td>\n",
       "      <td>85</td>\n",
       "    </tr>\n",
       "    <tr>\n",
       "      <th>4</th>\n",
       "      <td>41</td>\n",
       "      <td>87</td>\n",
       "      <td>53</td>\n",
       "    </tr>\n",
       "  </tbody>\n",
       "</table>\n",
       "</div>"
      ],
      "text/plain": [
       "   column1  column2  column3\n",
       "0       27       87       34\n",
       "1       84       92       78\n",
       "2       56        8       62\n",
       "3       46       33       85\n",
       "4       41       87       53"
      ]
     },
     "execution_count": 16,
     "metadata": {},
     "output_type": "execute_result"
    }
   ],
   "source": [
    "#Q24:- Create a pandas dataframe using a numpy array that contains 5 rows and 3 columns , where the Values are random integers between 1 and 100.\n",
    "import pandas as pd\n",
    "import numpy as np\n",
    "def pandas_dataframe(rows,cols,minvalue,maxvalue):\n",
    "    arr=np.random.randint(minvalue,maxvalue+1,size=(rows,cols))\n",
    "    df=pd.DataFrame(arr,columns=[f'column{i+1}' for i in range(cols)])\n",
    "    return df\n",
    "\n",
    "pandas_dataframe(5,3,1,100)"
   ]
  },
  {
   "cell_type": "code",
   "execution_count": 2,
   "metadata": {},
   "outputs": [
    {
     "name": "stdout",
     "output_type": "stream",
     "text": [
      "original dataframe: \n",
      "   column1  column2  column3\n",
      "0      -50      -67       14\n",
      "1      -74       10       40\n",
      "2       56      -63       11\n",
      "3       20      -44      -36\n",
      "4      -56       48       -7\n",
      "\n",
      "DataFrame after replacing negative values in column2 with zeros:\n",
      "   column1  column2  column3\n",
      "0      -50        0       14\n",
      "1      -74       10       40\n",
      "2       56        0       11\n",
      "3       20        0      -36\n",
      "4      -56       48       -7\n"
     ]
    }
   ],
   "source": [
    "#Q25:- Write a function that takes a pandas Dataframe and replace all negative Value in a specific column with zeros. Use numpy operations within the pandas Dataframes.\n",
    "import pandas as pd\n",
    "import numpy as np\n",
    "\n",
    "def pandas_dataframe(rows,cols,minvalue,maxvalue):\n",
    "    arr=np.random.randint(minvalue,maxvalue+1,size=(rows,cols))\n",
    "    df=pd.DataFrame(arr,columns=[f'column{i+1}' for i in range(cols)])\n",
    "    return df\n",
    "\n",
    "def positive_int_dataframe(dt,column_name):\n",
    "    dt[column_name]=np.where(dt[column_name]<0,0,dt[column_name])\n",
    "    return dt\n",
    "\n",
    "#example use\n",
    "dt=pandas_dataframe(5,3,-100,100)\n",
    "print(\"original dataframe: \")\n",
    "print(dt)\n",
    "\n",
    "#replacing negative Value of column2 with 0\n",
    "column_name=\"column2\"\n",
    "dt=positive_int_dataframe(dt,column_name)\n",
    "print(f\"\\nDataFrame after replacing negative values in {column_name} with zeros:\")\n",
    "print(dt)\n"
   ]
  },
  {
   "cell_type": "code",
   "execution_count": 3,
   "metadata": {},
   "outputs": [
    {
     "name": "stdout",
     "output_type": "stream",
     "text": [
      "Third element: 30\n"
     ]
    }
   ],
   "source": [
    "#Q26:-Acces the 3rd element from the giVen Numpy array.\n",
    "import numpy as np\n",
    "arr = np.array([10, 20, 30, 40, 50])\n",
    "print(\"Third element:\",arr[2])"
   ]
  },
  {
   "cell_type": "code",
   "execution_count": 6,
   "metadata": {},
   "outputs": [
    {
     "name": "stdout",
     "output_type": "stream",
     "text": [
      "retrive element at index (1,2) is :  6\n"
     ]
    }
   ],
   "source": [
    "#Q27:-Retrieve the element at index (1, 2) from the 2D NumPy array. \n",
    "arr_2d = np.array([[1, 2, 3], \n",
    "                   [4, 5, 6], \n",
    "                   [7, 8, 9]])   \n",
    "\n",
    "print(\"retrive element at index (1,2) is : \",arr_2d[1,2])"
   ]
  },
  {
   "cell_type": "code",
   "execution_count": 8,
   "metadata": {},
   "outputs": [
    {
     "name": "stdout",
     "output_type": "stream",
     "text": [
      "original array: [ 3  8  2 10  5  7]\n",
      "arr which element is greater than 5: [ 8 10  7]\n"
     ]
    }
   ],
   "source": [
    "#Q28:- Using boolean indexing, extract elements greater than 5 from the given NumPy array.  \n",
    "arr = np.array([3, 8, 2, 10, 5, 7])\n",
    "\n",
    "print(\"original array:\",arr)\n",
    "\n",
    "arr=arr[arr>5]\n",
    "print(\"arr which element is greater than 5:\",arr)"
   ]
  },
  {
   "cell_type": "code",
   "execution_count": 12,
   "metadata": {},
   "outputs": [
    {
     "name": "stdout",
     "output_type": "stream",
     "text": [
      "Sliced array: [3 4 5 6]\n"
     ]
    }
   ],
   "source": [
    "#Q29:- Perform basic slicing to extract elements from index 2 to 5 (inclusive) from the given NumPy array. \n",
    "arr = np.array([1, 2, 3, 4, 5, 6, 7, 8, 9]) \n",
    "\n",
    "#solution\n",
    "sliced_arr=arr[2:6]\n",
    "print(\"Sliced array:\",sliced_arr)\n",
    "\n"
   ]
  },
  {
   "cell_type": "code",
   "execution_count": 16,
   "metadata": {},
   "outputs": [
    {
     "name": "stdout",
     "output_type": "stream",
     "text": [
      "[[2 3]\n",
      " [5 6]]\n"
     ]
    }
   ],
   "source": [
    "#Q30:- Slice the 2D NumPy array to extract the sub-array `[[2, 3], [5, 6]]` from the given array.\n",
    "arr_2d = np.array([[1, 2, 3],                    \n",
    "                   [4, 5, 6], \n",
    "                   [7, 8, 9]])\n",
    "\n",
    "#solution \n",
    "import numpy as np\n",
    "sub_array=arr_2d[0:2,1:3]# Rows 0 to 1 (inclusive), Columns 1 to 2 (inclusive)\n",
    "print(sub_array)\n"
   ]
  },
  {
   "cell_type": "code",
   "execution_count": 1,
   "metadata": {},
   "outputs": [
    {
     "data": {
      "text/plain": [
       "array([2, 6, 7])"
      ]
     },
     "execution_count": 1,
     "metadata": {},
     "output_type": "execute_result"
    }
   ],
   "source": [
    "#Q31:-.Write a NumPy function to extract elements in specific order from a given 2D array based on indices provided in another array. \n",
    "import numpy as np\n",
    "def exract_function(arr,indices):\n",
    "    return arr[indices[:,0],indices[:,1]]\n",
    "\n",
    "arr=np.array([[1,2,3],[4,5,6],[7,8,9]])\n",
    "indices=np.array([[0,1],[1,2],[2,0]])\n",
    "\n",
    "exract_function(arr,indices)"
   ]
  },
  {
   "cell_type": "code",
   "execution_count": 2,
   "metadata": {},
   "outputs": [
    {
     "data": {
      "text/plain": [
       "array([11, 16, 18, 22, 26, 31, 33, 47, 51, 52])"
      ]
     },
     "execution_count": 2,
     "metadata": {},
     "output_type": "execute_result"
    }
   ],
   "source": [
    "#Q32. Create a NumPy function that filters elements greater than a threshold from a given 1D array using boolean indexing.\n",
    "import numpy as np\n",
    "\n",
    "def filter_elements(arr,threshold):\n",
    "    boolean_mask=arr>threshold\n",
    "\n",
    "    return arr[boolean_mask]\n",
    "\n",
    "\n",
    "#example use \n",
    "array1 = np.array([1, 2, 4, 9, 11, 16, 18, 22, 26, 31, 33, 47, 51, 52])\n",
    "threshold = 10\n",
    "filter_elements(array1,threshold)"
   ]
  },
  {
   "cell_type": "code",
   "execution_count": 2,
   "metadata": {},
   "outputs": [
    {
     "name": "stdout",
     "output_type": "stream",
     "text": [
      "Extracted elements: [ 5 10 24]\n"
     ]
    }
   ],
   "source": [
    "#Q33:- Develop a numpy function that extracts specific elements from a 3D array using indices provided in three sepreate arrays for each dimension\n",
    "import numpy as np\n",
    "\n",
    "def extract_elements_3d(array, idx_x, idx_y, idx_z):\n",
    "    # Convert indices to a tuple for advanced indexing\n",
    "    return array[idx_x, idx_y, idx_z]\n",
    "\n",
    "# Example usage\n",
    "arr = np.arange(3 * 3 * 3).reshape((3, 3, 3))  # A 3x3x3 array\n",
    "\n",
    "# Indices for each dimension\n",
    "idx_x = np.array([0, 1, 2])  # Indices along the first dimension (x-axis)\n",
    "idx_y = np.array([1, 0, 2])  # Indices along the second dimension (y-axis)\n",
    "idx_z = np.array([2, 1, 0])  # Indices along the third dimension (z-axis)\n",
    "\n",
    "# Extract the elements\n",
    "extracted_elements = extract_elements_3d(arr, idx_x, idx_y, idx_z)\n",
    "print(\"Extracted elements:\", extracted_elements)\n"
   ]
  },
  {
   "cell_type": "code",
   "execution_count": 5,
   "metadata": {},
   "outputs": [
    {
     "name": "stdout",
     "output_type": "stream",
     "text": [
      "Elements satisfying both conditions: [20 25]\n"
     ]
    }
   ],
   "source": [
    "#Q34: Write a NumPy function that returns elements from an array where both two conditions are satisfied using boolean indexing.\n",
    "import numpy as np\n",
    "\n",
    "def elements_with_conditions(array, cond1, cond2):\n",
    "    # Apply both conditions using boolean indexing\n",
    "    return array[(cond1) & (cond2)]\n",
    "\n",
    "# Example usage\n",
    "arr = np.array([10, 15, 20, 25, 30, 35])\n",
    "\n",
    "# Conditions: elements greater than 15 and less than 30\n",
    "cond1 = arr > 15\n",
    "cond2 = arr < 30\n",
    "\n",
    "# Get elements satisfying both conditions\n",
    "result = elements_with_conditions(arr, cond1, cond2)\n",
    "print(\"Elements satisfying both conditions:\", result)\n",
    "\n"
   ]
  },
  {
   "cell_type": "code",
   "execution_count": 6,
   "metadata": {},
   "outputs": [
    {
     "name": "stdout",
     "output_type": "stream",
     "text": [
      "Extracted elements: [30 50 70]\n"
     ]
    }
   ],
   "source": [
    "#Q35- Create a NumPy function that extracts elements from a 2D array using row and column indices provided in separate arrays.\n",
    "import numpy as np\n",
    "\n",
    "def extract_elements_2d(array, row_indices, col_indices):\n",
    "    # Use advanced indexing to extract elements\n",
    "    return array[row_indices, col_indices]\n",
    "\n",
    "# Example usage\n",
    "arr = np.array([[10, 20, 30], \n",
    "                [40, 50, 60], \n",
    "                [70, 80, 90]])\n",
    "\n",
    "# Indices for rows and columns\n",
    "row_indices = np.array([0, 1, 2])  # Row indices\n",
    "col_indices = np.array([2, 1, 0])  # Column indices\n",
    "\n",
    "# Extract elements from the 2D array\n",
    "extracted_elements = extract_elements_2d(arr, row_indices, col_indices)\n",
    "print(\"Extracted elements:\", extracted_elements)\n"
   ]
  },
  {
   "cell_type": "code",
   "execution_count": 7,
   "metadata": {},
   "outputs": [
    {
     "name": "stdout",
     "output_type": "stream",
     "text": [
      "Resulting array:\n",
      " [[ 6  7  8]\n",
      " [ 9 10 11]\n",
      " [12 13 14]]\n"
     ]
    }
   ],
   "source": [
    "#Q36:- Given an array arr of shape (3, 3), add a scalar value of 5 to each element using NumPy broadcasting.\n",
    "import numpy as np\n",
    "\n",
    "def add_scalar(arr, scalar):\n",
    "    # Add the scalar to the array using broadcasting\n",
    "    return arr + scalar\n",
    "\n",
    "# Example usage\n",
    "arr = np.array([[1, 2, 3], \n",
    "                [4, 5, 6], \n",
    "                [7, 8, 9]])\n",
    "\n",
    "# Add scalar value of 5 to each element\n",
    "result = add_scalar(arr, 5)\n",
    "print(\"Resulting array:\\n\", result)\n",
    "\n",
    "\n"
   ]
  },
  {
   "cell_type": "code",
   "execution_count": 8,
   "metadata": {},
   "outputs": [
    {
     "name": "stdout",
     "output_type": "stream",
     "text": [
      "Resulting array:\n",
      " [[ 4  5  6  7]\n",
      " [16 18 20 22]\n",
      " [36 39 42 45]]\n"
     ]
    }
   ],
   "source": [
    "#Q37:- Consider two arrays arr1 of shape (1, 3) and arr2 of shape (3, 4). Multiply each row of arr2 by the corresponding element in arr1 using NumPy broadcasting.\n",
    "import numpy as np\n",
    "\n",
    "def multiply_rows(arr1, arr2):\n",
    "    # Transpose arr1 to shape (3, 1) and use broadcasting for multiplication\n",
    "    return arr2 * arr1.T\n",
    "\n",
    "# Example usage\n",
    "arr1 = np.array([[1, 2, 3]])  # Shape (1, 3)\n",
    "arr2 = np.array([[ 4,  5,  6,  7], \n",
    "                 [ 8,  9, 10, 11], \n",
    "                 [12, 13, 14, 15]])  # Shape (3, 4)\n",
    "\n",
    "result = multiply_rows(arr1, arr2)\n",
    "print(\"Resulting array:\\n\", result)\n"
   ]
  },
  {
   "cell_type": "code",
   "execution_count": 9,
   "metadata": {},
   "outputs": [
    {
     "name": "stdout",
     "output_type": "stream",
     "text": [
      "Resulting array:\n",
      " [[ 11  21  31]\n",
      " [ 42  52  62]\n",
      " [ 73  83  93]\n",
      " [104 114 124]]\n"
     ]
    }
   ],
   "source": [
    "#Q38:- Given a 1D array arr1 of shape (1, 4) and a 2D array arr2 of shape (4, 3), add arr1 to each row of arr2 using NumPy broadcasting.\n",
    "import numpy as np\n",
    "\n",
    "def add_to_rows(arr1, arr2):\n",
    "    return (arr2.T + arr1).T\n",
    "\n",
    "# Example usage\n",
    "arr1 = np.array([[1, 2, 3, 4]])  # Shape (1, 4)\n",
    "arr2 = np.array([[10, 20, 30], \n",
    "                 [40, 50, 60], \n",
    "                 [70, 80, 90], \n",
    "                 [100, 110, 120]])  # Shape (4, 3)\n",
    "\n",
    "result = add_to_rows(arr1, arr2)\n",
    "print(\"Resulting array:\\n\", result)\n"
   ]
  },
  {
   "cell_type": "code",
   "execution_count": 10,
   "metadata": {},
   "outputs": [
    {
     "name": "stdout",
     "output_type": "stream",
     "text": [
      "Resulting array:\n",
      " [[5 6 7]\n",
      " [6 7 8]\n",
      " [7 8 9]]\n"
     ]
    }
   ],
   "source": [
    "#Q39:-Consider two arrays arr1 of shape (3, 1) and arr2 of shape (1, 3). Add these arrays using NumPy broadcasting.\n",
    "import numpy as np\n",
    "\n",
    "def add_arrays(arr1, arr2):\n",
    "    return arr1 + arr2\n",
    "\n",
    "# Example usage\n",
    "arr1 = np.array([[1],\n",
    "                  [2],\n",
    "                  [3]])  # Shape (3, 1)\n",
    "\n",
    "arr2 = np.array([[4, 5, 6]])  # Shape (1, 3)\n",
    "\n",
    "result = add_arrays(arr1, arr2)\n",
    "print(\"Resulting array:\\n\", result)\n"
   ]
  },
  {
   "cell_type": "code",
   "execution_count": 11,
   "metadata": {},
   "outputs": [
    {
     "name": "stdout",
     "output_type": "stream",
     "text": [
      "Resulting array:\n",
      " [[43 48]\n",
      " [59 66]\n",
      " [75 84]]\n"
     ]
    }
   ],
   "source": [
    "#40:- Given arrays arr1 of shape (2, 3) and arr2 of shape (2, 2), perform multiplication using NumPy broadcasting. H andle the shape incompatibility\n",
    "\n",
    "import numpy as np\n",
    "\n",
    "def matrix_multiplication(arr1, arr2):\n",
    "    # Transpose arr1 to make it compatible\n",
    "    arr1_T = arr1.T\n",
    "    return np.dot(arr1_T, arr2)\n",
    "\n",
    "# Example usage\n",
    "arr1 = np.array([[1, 2, 3],\n",
    "                 [4, 5, 6]])  # Shape (2, 3)\n",
    "\n",
    "arr2 = np.array([[7, 8],\n",
    "                 [9, 10]])  # Shape (2, 2)\n",
    "\n",
    "result = matrix_multiplication(arr1, arr2)\n",
    "print(\"Resulting array:\\n\", result)\n"
   ]
  },
  {
   "cell_type": "code",
   "execution_count": 12,
   "metadata": {},
   "outputs": [
    {
     "name": "stdout",
     "output_type": "stream",
     "text": [
      "Column-wise mean: [2.5 3.5 4.5]\n"
     ]
    }
   ],
   "source": [
    "#Q41-: Calculate column-wise mean for the given array: \n",
    "arr = np.array([[1, 2, 3], [4, 5, 6]])\n",
    "\n",
    "import numpy as np\n",
    "\n",
    "arr = np.array([[1, 2, 3],\n",
    "                [4, 5, 6]])\n",
    "\n",
    "# Calculate column-wise mean\n",
    "column_mean = np.mean(arr, axis=0)          ##axis=0: This specifies that the mean should be computed along the vertical axis (i.e., for each column).\n",
    "print(\"Column-wise mean:\", column_mean)\n"
   ]
  },
  {
   "cell_type": "code",
   "execution_count": 13,
   "metadata": {},
   "outputs": [
    {
     "name": "stdout",
     "output_type": "stream",
     "text": [
      "Maximum value in each row: [3 6]\n"
     ]
    }
   ],
   "source": [
    "#Q42:- Find maximum value in each row of the given array:\n",
    "arr = np.array([[1, 2, 3], [4, 5, 6]])\n",
    "\n",
    "import numpy as np\n",
    "\n",
    "arr = np.array([[1, 2, 3],\n",
    "                [4, 5, 6]])\n",
    "\n",
    "# Find the maximum value in each row\n",
    "row_max = np.max(arr, axis=1)              ##axis=1<< along the horizontal axis \n",
    "print(\"Maximum value in each row:\", row_max)\n"
   ]
  },
  {
   "cell_type": "code",
   "execution_count": 14,
   "metadata": {},
   "outputs": [
    {
     "name": "stdout",
     "output_type": "stream",
     "text": [
      "Indices of maximum values in each column: [1 1 1]\n"
     ]
    }
   ],
   "source": [
    "#Q43:-  For the given array, find indices of maximum value in each column.\n",
    "arr = np.array([[1, 2, 3], [4, 5, 6]])\n",
    "\n",
    "import numpy as np\n",
    "\n",
    "arr = np.array([[1, 2, 3],\n",
    "                [4, 5, 6]])\n",
    "\n",
    "# Find the indices of the maximum value in each column\n",
    "column_max_indices = np.argmax(arr, axis=0)\n",
    "print(\"Indices of maximum values in each column:\", column_max_indices)\n"
   ]
  },
  {
   "cell_type": "code",
   "execution_count": 15,
   "metadata": {},
   "outputs": [
    {
     "name": "stdout",
     "output_type": "stream",
     "text": [
      "Moving sum along rows:\n",
      " [[ 3  5]\n",
      " [ 9 11]]\n"
     ]
    }
   ],
   "source": [
    "#Q44:- For the given array, apply custom function to calculate moving sum along rows.\n",
    "arr = np.array([[1, 2, 3], [4, 5, 6]])\n",
    "\n",
    "import numpy as np\n",
    "\n",
    "def moving_sum(arr, window_size):\n",
    "    rows, cols = arr.shape\n",
    "    # Calculate the number of columns in the result\n",
    "    result = np.zeros((rows, cols - window_size + 1), dtype=int)\n",
    "    \n",
    "    for i in range(rows):\n",
    "        for j in range(cols - window_size + 1):\n",
    "            result[i, j] = np.sum(arr[i, j:j + window_size])\n",
    "    \n",
    "    return result\n",
    "\n",
    "# Example usage\n",
    "arr = np.array([[1, 2, 3],\n",
    "                [4, 5, 6]])\n",
    "\n",
    "window_size = 2  # Define the window size\n",
    "\n",
    "moving_sum_result = moving_sum(arr, window_size)\n",
    "print(\"Moving sum along rows:\\n\", moving_sum_result)\n"
   ]
  },
  {
   "cell_type": "code",
   "execution_count": 21,
   "metadata": {},
   "outputs": [
    {
     "name": "stdout",
     "output_type": "stream",
     "text": [
      "All elements in each column are even: [False False False]\n"
     ]
    }
   ],
   "source": [
    "#Q45:- In the given array, check  if all elements in each column are even.\n",
    "arr = np.array([[2, 4, 6], [3, 5, 7]])\n",
    "\n",
    "import numpy as np\n",
    "\n",
    "arr = np.array([[2, 4, 6],\n",
    "                [3, 5, 7]])\n",
    "\n",
    "# Check if all elements are even\n",
    "all_even = np.all(arr % 2 == 0,axis=0)\n",
    "\n",
    "print(\"All elements in each column are even:\", all_even)\n"
   ]
  },
  {
   "cell_type": "code",
   "execution_count": 22,
   "metadata": {},
   "outputs": [
    {
     "name": "stdout",
     "output_type": "stream",
     "text": [
      "Reshaped matrix:\n",
      " [[1 2 3]\n",
      " [4 5 6]]\n"
     ]
    }
   ],
   "source": [
    "#Question 46: Given a NumPy array arr, reshape it into a matrix of dimensions `m` rows and `n` columns. Return the reshaped matrix.\n",
    "original_array = np.array([1, 2, 3, 4, 5, 6])\n",
    "\n",
    "import numpy as np\n",
    "\n",
    "# Original array\n",
    "original_array = np.array([1, 2, 3, 4, 5, 6])\n",
    "\n",
    "# Desired dimensions\n",
    "m, n = 2, 3\n",
    "\n",
    "# Reshape the array\n",
    "reshaped_matrix = original_array.reshape(m, n)\n",
    "\n",
    "print(\"Reshaped matrix:\\n\", reshaped_matrix)\n"
   ]
  },
  {
   "cell_type": "code",
   "execution_count": 24,
   "metadata": {},
   "outputs": [
    {
     "name": "stdout",
     "output_type": "stream",
     "text": [
      "Flattened array:\n",
      " [1 2 3 4 5 6]\n"
     ]
    }
   ],
   "source": [
    "#Question 47. Create a function that takes a matrix as input and returns the flattened array.\n",
    "input_matrix = np.array([[1, 2, 3], [4, 5, 6]]) \n",
    "\n",
    "import numpy as np\n",
    "\n",
    "def flatten_matrix(matrix):\n",
    "    # Flatten the matrix to a 1D array\n",
    "    flattened_array = matrix.flatten()   #we can use  ravel\n",
    "    return flattened_array\n",
    "\n",
    "# Example usage\n",
    "input_matrix = np.array([[1, 2, 3],\n",
    "                         [4, 5, 6]])\n",
    "\n",
    "flattened_array = flatten_matrix(input_matrix)\n",
    "print(\"Flattened array:\\n\", flattened_array)\n"
   ]
  },
  {
   "cell_type": "code",
   "execution_count": 25,
   "metadata": {},
   "outputs": [
    {
     "name": "stdout",
     "output_type": "stream",
     "text": [
      "Concatenated along axis 0:\n",
      " [[1 2]\n",
      " [3 4]\n",
      " [5 6]\n",
      " [7 8]]\n",
      "Concatenated along axis 1:\n",
      " [[1 2 5 6]\n",
      " [3 4 7 8]]\n"
     ]
    }
   ],
   "source": [
    "#Question 48. Write a function that concatenates two given arrays along a specified axis. \n",
    "array1 = np.array([[1, 2], [3, 4]]) \n",
    "array2 = np.array([[5, 6], [7, 8]])\n",
    "\n",
    "import numpy as np\n",
    "\n",
    "def concatenate_arrays(array1, array2, axis):\n",
    "    # Concatenate the arrays along the specified axis\n",
    "    concatenated_array = np.concatenate((array1, array2), axis=axis)\n",
    "    return concatenated_array\n",
    "\n",
    "# Example usage\n",
    "array1 = np.array([[1, 2],\n",
    "                   [3, 4]])\n",
    "\n",
    "array2 = np.array([[5, 6],\n",
    "                   [7, 8]])\n",
    "\n",
    "# Concatenate along axis 0 (rows)\n",
    "concatenated_axis0 = concatenate_arrays(array1, array2, axis=0)\n",
    "print(\"Concatenated along axis 0:\\n\", concatenated_axis0)\n",
    "\n",
    "# Concatenate along axis 1 (columns)\n",
    "concatenated_axis1 = concatenate_arrays(array1, array2, axis=1)\n",
    "print(\"Concatenated along axis 1:\\n\", concatenated_axis1)\n"
   ]
  },
  {
   "cell_type": "code",
   "execution_count": 28,
   "metadata": {},
   "outputs": [
    {
     "name": "stdout",
     "output_type": "stream",
     "text": [
      "[array([[1, 2, 3]]), array([[4, 5, 6]]), array([[7, 8, 9]])]\n",
      "Split along axis 0:\n",
      "[[1 2 3]]\n",
      "[[4 5 6]]\n",
      "[[7 8 9]]\n",
      "\n",
      "[array([[1, 2],\n",
      "       [4, 5],\n",
      "       [7, 8]]), array([[3],\n",
      "       [6],\n",
      "       [9]])]\n",
      "\n",
      "Split along axis 1:\n",
      "[[1 2]\n",
      " [4 5]\n",
      " [7 8]]\n",
      "[[3]\n",
      " [6]\n",
      " [9]]\n"
     ]
    }
   ],
   "source": [
    "#Question 49. Create a function that splits an array into multiple sub-arrays along a specified axis.\n",
    "original_array = np.array([[1, 2, 3], [4, 5, 6], [7, 8, 9]])\n",
    "\n",
    "import numpy as np\n",
    "\n",
    "def split_array(array, num_splits, axis):\n",
    "    # Split the array into `num_splits` sub-arrays along the specified axis\n",
    "    sub_arrays = np.array_split(array, num_splits, axis=axis)\n",
    "    return sub_arrays\n",
    "\n",
    "# Example usage\n",
    "original_array = np.array([[1, 2, 3],\n",
    "                           [4, 5, 6],\n",
    "                           [7, 8, 9]])\n",
    "\n",
    "# Split into 3 sub-arrays along axis 0 (rows)\n",
    "split_axis0 = split_array(original_array, num_splits=3, axis=0)\n",
    "print(split_axis0 )\n",
    "print(\"Split along axis 0:\")\n",
    "for sub_array in split_axis0:\n",
    "    print(sub_array)\n",
    "\n",
    "print()\n",
    "\n",
    "# Split into 2 sub-arrays along axis 1 (columns)\n",
    "split_axis1 = split_array(original_array, num_splits=2, axis=1)\n",
    "print(split_axis1)\n",
    "print(\"\\nSplit along axis 1:\")\n",
    "for sub_array in split_axis1:\n",
    "    print(sub_array)\n"
   ]
  },
  {
   "cell_type": "code",
   "execution_count": 29,
   "metadata": {},
   "outputs": [
    {
     "name": "stdout",
     "output_type": "stream",
     "text": [
      "Resulting array after insertion and deletion:\n",
      " [ 1 10  4 11  5]\n"
     ]
    }
   ],
   "source": [
    "#Question 50. Write a function that inserts and then deletes elements from a given array at specified indices.\n",
    "original_array = np.array([1, 2, 3, 4, 5]) \n",
    "indices_to_insert = [2, 4] \n",
    "values_to_insert = [10, 11] \n",
    "indices_to_delete = [1, 3]\n",
    "\n",
    "import numpy as np\n",
    "\n",
    "def modify_array(original_array, indices_to_insert, values_to_insert, indices_to_delete):\n",
    "    # Insert elements into the array\n",
    "    array_with_insertions = np.insert(original_array, indices_to_insert, values_to_insert)\n",
    "    \n",
    "    # Delete elements from the array\n",
    "    array_after_deletion = np.delete(array_with_insertions, indices_to_delete)\n",
    "    \n",
    "    return array_after_deletion\n",
    "\n",
    "# Example usage\n",
    "original_array = np.array([1, 2, 3, 4, 5])\n",
    "indices_to_insert = [2, 4]\n",
    "values_to_insert = [10, 11]\n",
    "indices_to_delete = [1, 3]\n",
    "\n",
    "result_array = modify_array(original_array, indices_to_insert, values_to_insert, indices_to_delete)\n",
    "print(\"Resulting array after insertion and deletion:\\n\", result_array)\n"
   ]
  },
  {
   "cell_type": "code",
   "execution_count": 1,
   "metadata": {},
   "outputs": [
    {
     "name": "stdout",
     "output_type": "stream",
     "text": [
      "arr1:\n",
      " [[2 6 5]\n",
      " [2 5 7]]\n",
      "arr2:\n",
      " [[1 2 3]\n",
      " [4 5 6]]\n",
      "Result of element-wise addition:\n",
      " [[ 3  8  8]\n",
      " [ 6 10 13]]\n"
     ]
    }
   ],
   "source": [
    "#Question 51. Create a NumPy array `arr1` with random integers and another array `arr2` with integers from 1 to 10. Perform element-wise addition between `arr1` and `arr2`. \n",
    "import numpy as np\n",
    "\n",
    "# Create arr1 with random integers (e.g., 2x3 matrix with values between 0 and 9)\n",
    "arr1 = np.random.randint(0, 10, size=(2, 3))\n",
    "\n",
    "# Create arr2 with integers from 1 to 10 (e.g., 2x3 matrix)\n",
    "arr2 = np.arange(1, 7).reshape(2, 3)\n",
    "\n",
    "# Perform element-wise addition\n",
    "result = arr1 + arr2\n",
    "\n",
    "print(\"arr1:\\n\", arr1)\n",
    "print(\"arr2:\\n\", arr2)\n",
    "print(\"Result of element-wise addition:\\n\", result)\n"
   ]
  },
  {
   "cell_type": "code",
   "execution_count": 2,
   "metadata": {},
   "outputs": [
    {
     "name": "stdout",
     "output_type": "stream",
     "text": [
      "arr1:\n",
      " [10  9  8  7  6  5  4  3  2  1]\n",
      "arr2:\n",
      " [ 1  2  3  4  5  6  7  8  9 10]\n",
      "Result of element-wise subtraction:\n",
      " [ 9  7  5  3  1 -1 -3 -5 -7 -9]\n"
     ]
    }
   ],
   "source": [
    "#Question 52. Generate a NumPy array `arr1` with sequential integers from 10 to 1 and another array `arr2` with integers from 1 to 10. Subtract `arr2` from `arr1` element-wise. \n",
    "\n",
    "import numpy as np\n",
    "\n",
    "# Create arr1 with sequential integers from 10 to 1\n",
    "arr1 = np.arange(10, 0, -1)\n",
    "\n",
    "# Create arr2 with integers from 1 to 10\n",
    "arr2 = np.arange(1, 11)\n",
    "\n",
    "# Perform element-wise subtraction\n",
    "result = arr1 - arr2\n",
    "\n",
    "print(\"arr1:\\n\", arr1)\n",
    "print(\"arr2:\\n\", arr2)\n",
    "print(\"Result of element-wise subtraction:\\n\", result)\n"
   ]
  },
  {
   "cell_type": "code",
   "execution_count": 5,
   "metadata": {},
   "outputs": [
    {
     "name": "stdout",
     "output_type": "stream",
     "text": [
      "arr1:\n",
      " [[7 5 5 2 9]\n",
      " [4 5 4 5 1]]\n",
      "arr2:\n",
      " [1 2 3 4 5]\n",
      "Result of element-wise multiplication:\n",
      " [[ 7 10 15  8 45]\n",
      " [ 4 10 12 20  5]]\n"
     ]
    }
   ],
   "source": [
    "#Question 53. Create a NumPy array `arr1` with random integers and another array `arr2` with integers from 1 to 5. Perform element-wise multiplication between `arr1` and `arr2`.  \n",
    "import numpy as np\n",
    "\n",
    "# Create arr1 with random integers (e.g., 2x5 matrix with values between 1 and 10)\n",
    "arr1 = np.random.randint(1, 10, size=(2, 5))\n",
    "\n",
    "# Create arr2 with integers from 1 to 5 (e.g., 2x5 matrix)\n",
    "arr2 = np.arange(1, 6)\n",
    "\n",
    "# Perform element-wise multiplication\n",
    "result = arr1 * arr2\n",
    "\n",
    "print(\"arr1:\\n\", arr1)\n",
    "print(\"arr2:\\n\", arr2)\n",
    "print(\"Result of element-wise multiplication:\\n\", result)\n"
   ]
  },
  {
   "cell_type": "code",
   "execution_count": 6,
   "metadata": {},
   "outputs": [
    {
     "name": "stdout",
     "output_type": "stream",
     "text": [
      "arr1:\n",
      " [ 2  4  6  8 10]\n",
      "arr2:\n",
      " [1 2 3 4 5]\n",
      "Result of element-wise division:\n",
      " [2. 2. 2. 2. 2.]\n"
     ]
    }
   ],
   "source": [
    "#Question 54. Generate a NumPy array `arr1` with even integers from 2 to 10 and another array `arr2` with integers from 1 to 5. Perform element-wise division of `arr1` by `arr2`.  \n",
    "import numpy as np\n",
    "\n",
    "# Create arr1 with even integers from 2 to 10\n",
    "arr1 = np.arange(2, 11, 2)\n",
    "\n",
    "# Create arr2 with integers from 1 to 5\n",
    "arr2 = np.arange(1, 6)\n",
    "\n",
    "# Perform element-wise division\n",
    "result = arr1 / arr2\n",
    "\n",
    "print(\"arr1:\\n\", arr1)\n",
    "print(\"arr2:\\n\", arr2)\n",
    "print(\"Result of element-wise division:\\n\", result)\n"
   ]
  },
  {
   "cell_type": "code",
   "execution_count": 7,
   "metadata": {},
   "outputs": [
    {
     "name": "stdout",
     "output_type": "stream",
     "text": [
      "arr1:\n",
      " [1 2 3 4 5]\n",
      "arr2:\n",
      " [5 4 3 2 1]\n",
      "Result of element-wise exponentiation:\n",
      " [ 1 16 27 16  5]\n"
     ]
    }
   ],
   "source": [
    "#Question 55. Create a NumPy array `arr1` with integers from 1 to 5 and another array `arr2` with the same numbers reversed. Calculate the exponentiation of `arr1` raised to the power of `arr2` element-wise. \n",
    "import numpy as np\n",
    "\n",
    "# Create arr1 with integers from 1 to 5\n",
    "arr1 = np.arange(1, 6)\n",
    "\n",
    "# Create arr2 with the reversed sequence of arr1\n",
    "arr2 = np.flip(arr1)\n",
    "\n",
    "# Perform element-wise exponentiation\n",
    "result = arr1 ** arr2\n",
    "\n",
    "print(\"arr1:\\n\", arr1)\n",
    "print(\"arr2:\\n\", arr2)\n",
    "print(\"Result of element-wise exponentiation:\\n\", result)\n"
   ]
  },
  {
   "cell_type": "code",
   "execution_count": 9,
   "metadata": {},
   "outputs": [
    {
     "name": "stdout",
     "output_type": "stream",
     "text": [
      "Occurrences of 'lello': 0\n"
     ]
    }
   ],
   "source": [
    "#Question 56. Write a function that counts the occurrences of a specific substring within a NumPy array of strings.\n",
    "arr = np.array(['hello', 'world', 'hello', 'numpy', 'hello'])\n",
    "\n",
    "import numpy as np\n",
    "\n",
    "def count_substring_occurrences(arr, substring):\n",
    "    # Use np.char.find to check if the substring is in each element of the array\n",
    "    occurrences = np.char.find(arr, substring) != -1\n",
    "    \n",
    "    # Sum the boolean array to get the count of occurrences\n",
    "    count = np.sum(occurrences)\n",
    "    \n",
    "    return count\n",
    "\n",
    "# Example usage\n",
    "arr = np.array(['hello', 'world', 'hello', 'numpy', 'hello'])\n",
    "substring = 'hello'\n",
    "result = count_substring_occurrences(arr, substring)\n",
    "\n",
    "print(f\"Occurrences of '{substring}':\", result)\n"
   ]
  },
  {
   "cell_type": "code",
   "execution_count": 2,
   "metadata": {},
   "outputs": [
    {
     "name": "stdout",
     "output_type": "stream",
     "text": [
      "Uppercase characters: ['H' 'W' 'O' 'A' 'I' 'G' 'P' 'T']\n"
     ]
    }
   ],
   "source": [
    "#Question 57. Write a function that extracts uppercase characters from a NumPy array of strings. \n",
    "arr = np.array(['Hello', 'World', 'OpenAI', 'GPT'])\n",
    "\n",
    "import numpy as np\n",
    "def extract_uppercase_characters(arr):\n",
    "    #create a list to store uppercase characters\n",
    "    uppercase_chars=[]\n",
    "\n",
    "    #iterate over each string n the arraay\n",
    "    for s  in arr:\n",
    "        #Extract uppercase characters from the string\n",
    "        uppercase_chars.extend([char for char in s if char.isupper()])\n",
    "\n",
    "    #Convert the list to a numpy array and return\n",
    "    return np.array(uppercase_chars)    \n",
    "\n",
    "## Example usage\n",
    "arr = np.array(['Hello', 'World', 'OpenAI', 'GPT'])\n",
    "result = extract_uppercase_characters(arr)\n",
    "\n",
    "print(\"Uppercase characters:\", result)"
   ]
  },
  {
   "cell_type": "code",
   "execution_count": 3,
   "metadata": {},
   "outputs": [
    {
     "name": "stdout",
     "output_type": "stream",
     "text": [
      "Array after replacement: ['orange' 'banana' 'grape' 'pineorange']\n"
     ]
    }
   ],
   "source": [
    "#Question 58. Write a function that replaces occurrences of a substring in a NumPy array of strings with a new string\n",
    "arr = np.array(['apple', 'banana', 'grape', 'pineapple'])\n",
    "\n",
    "import numpy as np\n",
    "\n",
    "def replace_substring(arr, old_substring, new_substring):\n",
    "    # Use np.char.replace to replace old_substring with new_substring\n",
    "    replaced_arr = np.char.replace(arr, old_substring, new_substring)\n",
    "    return replaced_arr\n",
    "\n",
    "# Example usage\n",
    "arr = np.array(['apple', 'banana', 'grape', 'pineapple'])\n",
    "old_substring = 'apple'\n",
    "new_substring = 'orange'\n",
    "result = replace_substring(arr, old_substring, new_substring)\n",
    "\n",
    "print(\"Array after replacement:\", result)\n"
   ]
  },
  {
   "cell_type": "code",
   "execution_count": 4,
   "metadata": {},
   "outputs": [
    {
     "name": "stdout",
     "output_type": "stream",
     "text": [
      "Concatenated array: ['HelloOpen' 'WorldAI']\n"
     ]
    }
   ],
   "source": [
    "#Question 59. Write a function that concatenates strings in a NumPy array element-wise\n",
    "arr1 = np.array(['Hello', 'World']) \n",
    "arr2 = np.array(['Open', 'AI'])\n",
    "\n",
    "import numpy as np\n",
    "\n",
    "def concatenate_strings(arr1, arr2):\n",
    "    # Use np.char.add to concatenate strings element-wise\n",
    "    concatenated_arr = np.char.add(arr1, arr2)\n",
    "    return concatenated_arr\n",
    "\n",
    "# Example usage\n",
    "arr1 = np.array(['Hello', 'World'])\n",
    "arr2 = np.array(['Open', 'AI'])\n",
    "\n",
    "result = concatenate_strings(arr1, arr2)\n",
    "\n",
    "print(\"Concatenated array:\", result)\n"
   ]
  },
  {
   "cell_type": "code",
   "execution_count": 5,
   "metadata": {},
   "outputs": [
    {
     "name": "stdout",
     "output_type": "stream",
     "text": [
      "Length of the longest string: 9\n"
     ]
    }
   ],
   "source": [
    "#Question 60. Write a function that finds the length of the longest string in a NumPy array. \n",
    "arr = np.array(['apple', 'banana', 'grape', 'pineapple'])   \n",
    "import numpy as np\n",
    "\n",
    "def find_longest_string_length(arr):\n",
    "    # Use np.vectorize to apply the len function to each string in the array\n",
    "    string_lengths = np.vectorize(len)(arr)\n",
    "    \n",
    "    # Find and return the maximum length\n",
    "    return np.max(string_lengths)\n",
    "\n",
    "# Example usage\n",
    "arr = np.array(['apple', 'banana', 'grape', 'pineapple'])\n",
    "longest_length = find_longest_string_length(arr)\n",
    "\n",
    "print(\"Length of the longest string:\", longest_length)\n"
   ]
  },
  {
   "cell_type": "code",
   "execution_count": 6,
   "metadata": {},
   "outputs": [
    {
     "name": "stdout",
     "output_type": "stream",
     "text": [
      "Dataset: [101 496 796 549 562 759 353 703  86 558  41 619 697 387 839 930 858 540\n",
      " 507 583 583 935 814 697 837 267 672 750 669 748  70 271 346 886 564 283\n",
      " 296  49 765 170 514 803 296 751 101 593 659 817 682 378 551  29 932 636\n",
      " 544 699 365 579 500 880 717 853 548   1 886 890 140 911 523 343  80 613\n",
      " 172 642 893 759 265 113 105 281 139 557 279 245 404 388 608 861 297 925\n",
      " 365 413 900 583 682 743 369 565 250 378]\n",
      "Mean: 526.31\n",
      "Median: 560.0\n",
      "Variance: 69604.45390000001\n",
      "Standard Deviation: 263.8265602626089\n"
     ]
    }
   ],
   "source": [
    "#Question 61. Create a dataset of 100 random integers between 1 and 1000. Compute the mean, median, variance, and standard deviation of the dataset using NumPy's functions.\n",
    "import numpy as np\n",
    "\n",
    "# Step 1: Generate a dataset of 100 random integers between 1 and 1000\n",
    "dataset = np.random.randint(1, 1001, size=100)\n",
    "\n",
    "# Step 2: Compute statistical metrics\n",
    "mean_value = np.mean(dataset)\n",
    "median_value = np.median(dataset)\n",
    "variance_value = np.var(dataset)\n",
    "std_deviation_value = np.std(dataset)\n",
    "\n",
    "# Output the results\n",
    "print(\"Dataset:\", dataset)\n",
    "print(\"Mean:\", mean_value)\n",
    "print(\"Median:\", median_value)\n",
    "print(\"Variance:\", variance_value)\n",
    "print(\"Standard Deviation:\", std_deviation_value)\n"
   ]
  },
  {
   "cell_type": "code",
   "execution_count": 7,
   "metadata": {},
   "outputs": [
    {
     "name": "stdout",
     "output_type": "stream",
     "text": [
      "Random Numbers:\n",
      " [90.75842224 91.58771691 40.08328756 17.24121947 65.64248881 25.54894146\n",
      " 42.44998958 56.27450815 74.57140959 12.55341097 66.51305767 77.67350412\n",
      "  4.54168542 20.46696585 52.14458356 70.80579994 31.90931348 61.10228835\n",
      " 78.84389113  3.42164517 70.97070304 45.62046935 68.70572139 93.68752821\n",
      " 97.54426674 79.4773675   3.54816637 33.37813781 10.92069756 18.84903817\n",
      " 43.22161908 24.79246484  1.29328003 45.92278952 51.9695262  76.21378001\n",
      " 53.79386746 19.96893244 78.07890742 69.07323102 93.06853702 48.42203305\n",
      " 39.88247471 15.62580796 90.2119126  25.20915875 81.22579783 67.29551744\n",
      " 82.85803928 53.85542454]\n",
      "25th Percentile: 25.29410442461971\n",
      "75th Percentile: 75.80318740705685\n"
     ]
    }
   ],
   "source": [
    "#Question 62. Generate an array of 50 random numbers between 1 and 100. Find the 25th and 75th percentiles of the dataset. \n",
    "import numpy as np\n",
    "\n",
    "# Step 1: Generate an array of 50 random numbers between 1 and 100\n",
    "random_numbers = np.random.uniform(1, 100, size=50)\n",
    "\n",
    "# Step 2: Compute the 25th and 75th percentiles\n",
    "percentile_25 = np.percentile(random_numbers, 25)\n",
    "percentile_75 = np.percentile(random_numbers, 75)\n",
    "\n",
    "# Output the results\n",
    "print(\"Random Numbers:\\n\", random_numbers)\n",
    "print(\"25th Percentile:\", percentile_25)\n",
    "print(\"75th Percentile:\", percentile_75)\n"
   ]
  },
  {
   "cell_type": "code",
   "execution_count": 9,
   "metadata": {},
   "outputs": [
    {
     "name": "stdout",
     "output_type": "stream",
     "text": [
      "Array 1: [ 5 14 50 46 52 72 63 64 48 89 62 64 89 47 75 80 84 29 59 31  6 79 91 16\n",
      " 34 42 88 45  2 71  6 31 38 82 76  2 22 88 92 82 43 28 21 96 52 51 14 53\n",
      " 74 76]\n",
      "Array 2: [72 64 94 29  6 66 95 35 64  1 86 93  1 35 52 74 51 88 78 15 15  4 93 12\n",
      " 49 97 48 15 95 57 91 80 26 13 15 38 11 67 27 62 50 54  9 83  1 62 18 84\n",
      " 51 63]\n",
      "[[1.         0.00223717]\n",
      " [0.00223717 1.        ]]\n",
      "Correlation Coefficient: 0.002237167574506114\n"
     ]
    }
   ],
   "source": [
    "#Question 63. Create two arrays representing two sets of variables. Compute the correlation coefficient between these arrays using NumPy's `corrcoef` function. \n",
    "import numpy as np\n",
    "\n",
    "# Step 1: Create two arrays representing two sets of variables\n",
    "array1 = np.random.randint(1, 100, size=50)\n",
    "array2 = np.random.randint(1, 100, size=50)\n",
    "\n",
    "# Step 2: Compute the correlation coefficient\n",
    "correlation_matrix = np.corrcoef(array1, array2)\n",
    "\n",
    "# The correlation coefficient is the element [0, 1] or [1, 0] in the matrix\n",
    "correlation_coefficient = correlation_matrix[0, 1]\n",
    "\n",
    "# Output the results\n",
    "print(\"Array 1:\", array1)\n",
    "print(\"Array 2:\", array2)\n",
    "print(correlation_matrix)\n",
    "print(\"Correlation Coefficient:\", correlation_coefficient)\n"
   ]
  },
  {
   "cell_type": "code",
   "execution_count": 10,
   "metadata": {},
   "outputs": [
    {
     "name": "stdout",
     "output_type": "stream",
     "text": [
      "Matrix 1:\n",
      " [[8 3]\n",
      " [6 8]\n",
      " [3 4]]\n",
      "Matrix 2:\n",
      " [[3 8 7]\n",
      " [5 5 2]]\n",
      "Result of matrix multiplication:\n",
      " [[39 79 62]\n",
      " [58 88 58]\n",
      " [29 44 29]]\n"
     ]
    }
   ],
   "source": [
    "#Question 64. Create two matrices and perform matrix multiplication using NumPy's `dot` function.\n",
    "#answer:Matrix multiplication can be performed using NumPy’s dot function or the @ operator. In matrix multiplication, the number of columns in the first matrix must match the number of rows in the second matrix\n",
    "\n",
    "import numpy as np\n",
    "\n",
    "# Step 1: Create two matrices\n",
    "matrix1 = np.random.randint(1, 10, size=(3, 2))  # A 3x2 matrix\n",
    "matrix2 = np.random.randint(1, 10, size=(2, 3))  # A 2x3 matrix\n",
    "\n",
    "# Step 2: Perform matrix multiplication\n",
    "result = np.dot(matrix1, matrix2)  # Or use matrix1 @ matrix2\n",
    "\n",
    "# Output the matrices and the result\n",
    "print(\"Matrix 1:\\n\", matrix1)\n",
    "print(\"Matrix 2:\\n\", matrix2)\n",
    "print(\"Result of matrix multiplication:\\n\", result)\n"
   ]
  },
  {
   "cell_type": "code",
   "execution_count": 11,
   "metadata": {},
   "outputs": [
    {
     "name": "stdout",
     "output_type": "stream",
     "text": [
      "Array: [ 162  700  599  381  276  279  240  290  542  851  914  605  861 1000\n",
      "  338  333  807  511  508  318  665  257  726  538  880  626  513  268\n",
      "  875  236  904  553  935   99  176   44  672  169  304  438  289  368\n",
      "   49  451  983  697  737  955  790  355]\n",
      "10th Percentile: 175.3\n",
      "50th Percentile (Median): 512.0\n",
      "90th Percentile: 905.0\n",
      "First Quartile (Q1): 289.25\n",
      "Third Quartile (Q3): 734.25\n"
     ]
    }
   ],
   "source": [
    "#Question 65. Create an array of 50 integers between 10 and 1000. Calculate the 10th, 50th (median), and 90th percentiles along with the first and third quartiles.\n",
    "import numpy as np\n",
    "\n",
    "# Step 1: Generate an array of 50 random integers between 10 and 1000\n",
    "arr = np.random.randint(10, 1001, size=50)\n",
    "\n",
    "# Step 2: Calculate the required percentiles\n",
    "percentile_10 = np.percentile(arr, 10)   # 10th percentile\n",
    "percentile_50 = np.percentile(arr, 50)   # 50th percentile (median)\n",
    "percentile_90 = np.percentile(arr, 90)   # 90th percentile\n",
    "\n",
    "# Step 3: Calculate the first and third quartiles\n",
    "first_quartile = np.percentile(arr, 25)  # Q1\n",
    "third_quartile = np.percentile(arr, 75)  # Q3\n",
    "\n",
    "# Output the results\n",
    "print(\"Array:\", arr)\n",
    "print(\"10th Percentile:\", percentile_10)\n",
    "print(\"50th Percentile (Median):\", percentile_50)\n",
    "print(\"90th Percentile:\", percentile_90)\n",
    "print(\"First Quartile (Q1):\", first_quartile)\n",
    "print(\"Third Quartile (Q3):\", third_quartile)\n"
   ]
  },
  {
   "cell_type": "code",
   "execution_count": 12,
   "metadata": {},
   "outputs": [
    {
     "name": "stdout",
     "output_type": "stream",
     "text": [
      "Array: [10 20 30 40 50 60 70 80 90]\n",
      "Index of 50: [4]\n"
     ]
    }
   ],
   "source": [
    "#Question 66. Create a NumPy array of integers and find the index of a specific element.\n",
    "\n",
    "import numpy as np\n",
    "\n",
    "# Step 1: Create a NumPy array of integers\n",
    "arr = np.array([10, 20, 30, 40, 50, 60, 70, 80, 90])\n",
    "\n",
    "# Step 2: Find the index of a specific element (e.g., 50)\n",
    "element_to_find = 50\n",
    "index = np.where(arr == element_to_find)\n",
    "\n",
    "# Output the results\n",
    "print(\"Array:\", arr)\n",
    "print(f\"Index of {element_to_find}:\", index[0])\n"
   ]
  },
  {
   "cell_type": "code",
   "execution_count": 13,
   "metadata": {},
   "outputs": [
    {
     "name": "stdout",
     "output_type": "stream",
     "text": [
      "Original Array: [40 51 93 99 90 74 74 83 69 98]\n",
      "Sorted Array: [40 51 69 74 74 83 90 93 98 99]\n"
     ]
    }
   ],
   "source": [
    "#Question 67. Generate a random NumPy array and sort it in ascending order. \n",
    "# \n",
    "# import numpy as np\n",
    "\n",
    "# Step 1: Generate a random NumPy array\n",
    "array_size = 10  # I can change the size as needed\n",
    "random_array = np.random.randint(1, 100, size=array_size)  # Array of random integers between 1 and 100\n",
    "\n",
    "# Step 2: Sort the array in ascending order\n",
    "sorted_array = np.sort(random_array)  # Returns a new sorted array\n",
    "# Alternatively, I can sort in place with: random_array.sort()\n",
    "\n",
    "# Output the results\n",
    "print(\"Original Array:\", random_array)\n",
    "print(\"Sorted Array:\", sorted_array)\n",
    " "
   ]
  },
  {
   "cell_type": "code",
   "execution_count": 14,
   "metadata": {},
   "outputs": [
    {
     "name": "stdout",
     "output_type": "stream",
     "text": [
      "Original Array: [12 25  6 42  8 30]\n",
      "Filtered Array (elements > 20): [25 42 30]\n"
     ]
    }
   ],
   "source": [
    "#Question 68. Filter elements >20  in the given NumPy array. \n",
    "arr = np.array([12, 25, 6, 42, 8, 30])\n",
    "\n",
    "import numpy as np\n",
    "\n",
    "# Step 1: Create the NumPy array\n",
    "arr = np.array([12, 25, 6, 42, 8, 30])\n",
    "\n",
    "# Step 2: Filter elements greater than 20\n",
    "filtered_arr = arr[arr > 20]\n",
    "\n",
    "# Output the results\n",
    "print(\"Original Array:\", arr)\n",
    "print(\"Filtered Array (elements > 20):\", filtered_arr)\n"
   ]
  },
  {
   "cell_type": "code",
   "execution_count": 15,
   "metadata": {},
   "outputs": [
    {
     "name": "stdout",
     "output_type": "stream",
     "text": [
      "Original Array: [ 1  5  8 12 15]\n",
      "Filtered Array (elements divisible by 3): [12 15]\n"
     ]
    }
   ],
   "source": [
    "#Question 69. Filter elements which are divisible by 3 from a given NumPy array. \n",
    "arr = np.array([1, 5, 8, 12, 15])\n",
    "\n",
    "import numpy as np\n",
    "\n",
    "# Step 1: Create the NumPy array\n",
    "arr = np.array([1, 5, 8, 12, 15])\n",
    "\n",
    "# Step 2: Filter elements divisible by 3\n",
    "divisible_by_3 = arr[arr % 3 == 0]\n",
    "\n",
    "# Output the results\n",
    "print(\"Original Array:\", arr)\n",
    "print(\"Filtered Array (elements divisible by 3):\", divisible_by_3)\n"
   ]
  },
  {
   "cell_type": "code",
   "execution_count": 16,
   "metadata": {},
   "outputs": [
    {
     "name": "stdout",
     "output_type": "stream",
     "text": [
      "Original Array: [10 20 30 40 50]\n",
      "Filtered Array (20 ≤ elements ≤ 40): [20 30 40]\n"
     ]
    }
   ],
   "source": [
    "#Question 70. Filter elements which are ≥ 20 and ≤ 40 from a given NumPy array.\n",
    "arr = np.array([10, 20, 30, 40, 50])\n",
    "\n",
    "import numpy as np\n",
    "\n",
    "# Step 1: Create the NumPy array\n",
    "arr = np.array([10, 20, 30, 40, 50])\n",
    "\n",
    "# Step 2: Filter elements ≥ 20 and ≤ 40\n",
    "filtered_arr = arr[(arr >= 20) & (arr <= 40)]\n",
    "\n",
    "# Output the results\n",
    "print(\"Original Array:\", arr)\n",
    "print(\"Filtered Array (20 ≤ elements ≤ 40):\", filtered_arr)\n"
   ]
  },
  {
   "cell_type": "code",
   "execution_count": 17,
   "metadata": {},
   "outputs": [
    {
     "name": "stdout",
     "output_type": "stream",
     "text": [
      "Byte Order: =\n"
     ]
    }
   ],
   "source": [
    "#Question 71. For the given NumPy array, check its byte order using the `dtype` attribute byteorder.\n",
    "arr = np.array([1, 2, 3])\n",
    "\n",
    "import numpy as np\n",
    "\n",
    "arr = np.array([1, 2, 3])\n",
    "byte_order = arr.dtype.byteorder\n",
    "\n",
    "print(\"Byte Order:\", byte_order)\n",
    "\n",
    "\"\"\"Byte order, also known as endianness, refers to the sequence in which bytes are ordered within a multi-byte data type when stored in memory. It is crucial for correctly interpreting binary data across different systems or architectures\n",
    "Output '<': Indicates little-endian.\n",
    "Output '>': Indicates big-endian.\n",
    "Output '=': Indicates native byte order.\n",
    "Output '': Indicates no byte order (e.g., for single-byte types)\n",
    "\"\"\"\n"
   ]
  },
  {
   "cell_type": "code",
   "execution_count": 18,
   "metadata": {},
   "outputs": [
    {
     "name": "stdout",
     "output_type": "stream",
     "text": [
      "Original Array: [1 2 3]\n",
      "Original Byte Order: =\n",
      "Array After Byte Swapping: [16777216 33554432 50331648]\n",
      "Byte Order After Swapping: =\n"
     ]
    }
   ],
   "source": [
    "#Question 72. For the given NumPy array, perform byte swapping in place using `byteswap()`. \n",
    "arr = np.array([1, 2, 3], dtype=np.int32)\n",
    "\n",
    "import numpy as np\n",
    "\n",
    "# Step 1: Create the NumPy array with dtype=np.int32\n",
    "arr = np.array([1, 2, 3], dtype=np.int32)\n",
    "\n",
    "# Output the original array and its byte order\n",
    "print(\"Original Array:\", arr)\n",
    "print(\"Original Byte Order:\", arr.dtype.byteorder)\n",
    "\n",
    "# Step 2: Perform byte swapping in place\n",
    "arr.byteswap(inplace=True)\n",
    "\n",
    "# Output the array after byte swapping and its byte order\n",
    "print(\"Array After Byte Swapping:\", arr)\n",
    "print(\"Byte Order After Swapping:\", arr.dtype.byteorder)\n"
   ]
  },
  {
   "cell_type": "code",
   "execution_count": 19,
   "metadata": {},
   "outputs": [
    {
     "name": "stdout",
     "output_type": "stream",
     "text": [
      "Original Array: [1 2 3]\n",
      "Original Byte Order: =\n",
      "Array With Swapped Byte Order: [16777216 33554432 50331648]\n",
      "Byte Order of Swapped Array: >\n"
     ]
    }
   ],
   "source": [
    "#Question 73. For the given NumPy array, swap its byte order without modifying the original array using `newbyteorder()`.\n",
    "arr = np.array([1, 2, 3], dtype=np.int32)\n",
    "\n",
    "import numpy as np\n",
    "\n",
    "# Step 1: Create the NumPy array with dtype=np.int32\n",
    "arr = np.array([1, 2, 3], dtype=np.int32)\n",
    "\n",
    "# Output the original array and its byte order\n",
    "print(\"Original Array:\", arr)\n",
    "print(\"Original Byte Order:\", arr.dtype.byteorder)\n",
    "\n",
    "# Step 2: Swap byte order without modifying the original array\n",
    "swapped_arr = arr.newbyteorder()\n",
    "\n",
    "# Output the new array with swapped byte order\n",
    "print(\"Array With Swapped Byte Order:\", swapped_arr)\n",
    "print(\"Byte Order of Swapped Array:\", swapped_arr.dtype.byteorder)\n"
   ]
  },
  {
   "cell_type": "code",
   "execution_count": 20,
   "metadata": {},
   "outputs": [
    {
     "name": "stdout",
     "output_type": "stream",
     "text": [
      "Original Array: [1 2 3]\n",
      "Original Byte Order: =\n",
      "Array With Conditionally Swapped Byte Order: [16777216 33554432 50331648]\n",
      "Byte Order of Swapped Array: >\n"
     ]
    }
   ],
   "source": [
    "#Question 74. For the given NumPy array and swap its byte order conditionally based on system endianness using `newbyteorder()`. \n",
    "arr = np.array([1, 2, 3], dtype=np.int32)\n",
    "\n",
    "import numpy as np\n",
    "\n",
    "# Step 1: Create the NumPy array with dtype=np.int32\n",
    "arr = np.array([1, 2, 3], dtype=np.int32)\n",
    "\n",
    "# Output the original array and its byte order\n",
    "print(\"Original Array:\", arr)\n",
    "print(\"Original Byte Order:\", arr.dtype.byteorder)\n",
    "\n",
    "# Determine the desired byte order based on system endianness\n",
    "# Let's assume we want to convert to big-endian ('>')\n",
    "desired_byte_order = '>' if arr.dtype.byteorder != '>' else '='\n",
    "\n",
    "# Swap byte order conditionally\n",
    "swapped_arr = arr.newbyteorder(desired_byte_order)\n",
    "\n",
    "# Output the new array with swapped byte order\n",
    "print(\"Array With Conditionally Swapped Byte Order:\", swapped_arr)\n",
    "print(\"Byte Order of Swapped Array:\", swapped_arr.dtype.byteorder)\n"
   ]
  },
  {
   "cell_type": "code",
   "execution_count": 21,
   "metadata": {},
   "outputs": [
    {
     "name": "stdout",
     "output_type": "stream",
     "text": [
      "Original Array: [1 2 3]\n",
      "Original Byte Order: =\n",
      "Byte swapping is not necessary.\n"
     ]
    }
   ],
   "source": [
    "#Question 75. For the given NumPy array, check if byte swapping is necessary for the current system using `dtype` attribute `byteorder`. \n",
    "arr = np.array([1, 2, 3], dtype=np.int32)\n",
    "\n",
    "import numpy as np\n",
    "\n",
    "# Step 1: Create the NumPy array with dtype=np.int32\n",
    "arr = np.array([1, 2, 3], dtype=np.int32)\n",
    "\n",
    "# Output the original array and its byte order\n",
    "print(\"Original Array:\", arr)\n",
    "print(\"Original Byte Order:\", arr.dtype.byteorder)\n",
    "\n",
    "# Determine the system's native byte order\n",
    "native_byte_order = '='  # Native byte order is represented as '='\n",
    "\n",
    "# Check if byte swapping is necessary\n",
    "if arr.dtype.byteorder != native_byte_order:\n",
    "    print(\"Byte swapping is necessary.\")\n",
    "else:\n",
    "    print(\"Byte swapping is not necessary.\")\n"
   ]
  },
  {
   "cell_type": "code",
   "execution_count": 22,
   "metadata": {},
   "outputs": [
    {
     "name": "stdout",
     "output_type": "stream",
     "text": [
      "Original Array (arr1): [ 1  2  3  4  5  6  7  8  9 10]\n",
      "Modified Copy Array (copy_arr): [100   2   3   4   5   6   7   8   9  10]\n"
     ]
    }
   ],
   "source": [
    "#Question 76. Create a NumPy array `arr1` with values from 1 to 10. Create a copy of `arr1` named `copy_arr` and modify an element in `copy_arr`. Check if modifying `copy_arr` affects `arr1`\n",
    "import numpy as np\n",
    "\n",
    "# Step 1: Create a NumPy array with values from 1 to 10\n",
    "arr1 = np.arange(1, 11)\n",
    "\n",
    "# Step 2: Create a copy of arr1\n",
    "copy_arr = arr1.copy()\n",
    "\n",
    "# Step 3: Modify an element in copy_arr\n",
    "copy_arr[0] = 100  # Modify the first element\n",
    "\n",
    "# Step 4: Check if modifying copy_arr affects arr1\n",
    "print(\"Original Array (arr1):\", arr1)\n",
    "print(\"Modified Copy Array (copy_arr):\", copy_arr)\n"
   ]
  },
  {
   "cell_type": "code",
   "execution_count": 23,
   "metadata": {},
   "outputs": [
    {
     "name": "stdout",
     "output_type": "stream",
     "text": [
      "Original Matrix:\n",
      " [[  6 100   0]\n",
      " [  5   9   4]\n",
      " [  3   7   8]]\n",
      "Modified Slice:\n",
      " [[100   0]\n",
      " [  9   4]\n",
      " [  7   8]]\n"
     ]
    }
   ],
   "source": [
    "#Question 77. Create a 2D NumPy array `matrix` of shape (3, 3) with random integers. Extract a slice `view_slice` from the matrix. Modify an element in `view_slice` and observe if it changes the original `matrix`.\n",
    "import numpy as np\n",
    "\n",
    "# Step 1: Create a 2D NumPy array with random integers\n",
    "matrix = np.random.randint(0, 10, size=(3, 3))\n",
    "\n",
    "# Step 2: Extract a slice from the matrix\n",
    "# Here we take a sub-array that includes all rows and columns 1 and 2\n",
    "view_slice = matrix[:, 1:3]   #matrix[:, 1:3] selects all rows (indicated by the :) and columns from index 1 to 2 (the end index 3 is exclusive).\n",
    "\n",
    "# Step 3: Modify an element in the view_slice\n",
    "view_slice[0, 0] = 100  # Modify the first element of the slice\n",
    "\n",
    "# Step 4: Check if modifying view_slice affects matrix\n",
    "print(\"Original Matrix:\\n\", matrix)\n",
    "print(\"Modified Slice:\\n\", view_slice)\n"
   ]
  },
  {
   "cell_type": "code",
   "execution_count": 24,
   "metadata": {},
   "outputs": [
    {
     "name": "stdout",
     "output_type": "stream",
     "text": [
      "Original Array (array_a):\n",
      " [[ 6  7  3]\n",
      " [ 9 10  6]\n",
      " [ 7  8  9]\n",
      " [10 11 12]]\n",
      "Modified Slice (view_b):\n",
      " [[ 6  7]\n",
      " [ 9 10]]\n"
     ]
    }
   ],
   "source": [
    "#Question 78. Create a NumPy array `array_a` of shape (4, 3) with sequential integers from 1 to 12. Extract a slice `view_b` from `array_a` and broadcast the addition of 5 to view_b. Check if it alters the original `array_a`. \n",
    "import numpy as np\n",
    "\n",
    "# Step 1: Create a NumPy array with sequential integers from 1 to 12\n",
    "array_a = np.arange(1, 13).reshape(4, 3)\n",
    "\n",
    "# Step 2: Extract a slice from array_a\n",
    "# For example, extract the first two rows and columns\n",
    "view_b = array_a[:2, :2]\n",
    "\n",
    "# Step 3: Broadcast addition of 5 to view_b\n",
    "view_b += 5\n",
    "\n",
    "# Step 4: Check if modifying view_b affects array_a\n",
    "print(\"Original Array (array_a):\\n\", array_a)\n",
    "print(\"Modified Slice (view_b):\\n\", view_b)\n"
   ]
  },
  {
   "cell_type": "code",
   "execution_count": 25,
   "metadata": {},
   "outputs": [
    {
     "name": "stdout",
     "output_type": "stream",
     "text": [
      "Original Array (orig_array):\n",
      " [[ 1  2  3 99]\n",
      " [ 5  6  7  8]]\n",
      "Reshaped View (reshaped_view):\n",
      " [[ 1  2]\n",
      " [ 3 99]\n",
      " [ 5  6]\n",
      " [ 7  8]]\n"
     ]
    }
   ],
   "source": [
    "#Questio 79. Create a NumPy array `orig_array` of shape (2, 4) with values from 1 to 8. Create a reshaped view `reshaped_view` of shape (4, 2) from orig_array. Modify an element in `reshaped_view` and check if it reflects changes in the original `orig_array`. \n",
    "import numpy as np\n",
    "\n",
    "# Step 1: Create the original array\n",
    "orig_array = np.arange(1, 9).reshape(2, 4)\n",
    "\n",
    "# Step 2: Create a reshaped view of shape (4, 2)\n",
    "reshaped_view = orig_array.reshape(4, 2)\n",
    "\n",
    "# Step 3: Modify an element in reshaped_view\n",
    "reshaped_view[1, 1] = 99\n",
    "\n",
    "# Step 4: Check if modifying reshaped_view affects orig_array\n",
    "print(\"Original Array (orig_array):\\n\", orig_array)\n",
    "print(\"Reshaped View (reshaped_view):\\n\", reshaped_view)\n"
   ]
  },
  {
   "cell_type": "code",
   "execution_count": 26,
   "metadata": {},
   "outputs": [
    {
     "name": "stdout",
     "output_type": "stream",
     "text": [
      "Original Array (data):\n",
      " [[6 1 4 4]\n",
      " [8 4 6 3]\n",
      " [5 8 7 9]]\n",
      "Modified Copy (data_copy):\n",
      " [99  8  6  8  7  9]\n"
     ]
    }
   ],
   "source": [
    "#Question 80. Create a NumPy array `data` of shape (3, 4) with random integers. Extract a copy `data_copy` of elements greater than 5. Modify an element in `data_copy` and verify if it affects the original `data`. \n",
    "import numpy as np\n",
    "\n",
    "# Step 1: Create the original array with random integers\n",
    "np.random.seed(0)  # For reproducibility\n",
    "data = np.random.randint(1, 10, size=(3, 4))\n",
    "\n",
    "# Step 2: Extract a copy of elements greater than 5\n",
    "data_copy = data[data > 5].copy()\n",
    "\n",
    "# Step 3: Modify an element in data_copy\n",
    "data_copy[0] = 99\n",
    "\n",
    "# Step 4: Verify if modifying data_copy affects data\n",
    "print(\"Original Array (data):\\n\", data)\n",
    "print(\"Modified Copy (data_copy):\\n\", data_copy)\n"
   ]
  },
  {
   "cell_type": "code",
   "execution_count": 27,
   "metadata": {},
   "outputs": [
    {
     "name": "stdout",
     "output_type": "stream",
     "text": [
      "Matrix A:\n",
      " [[1 2 3]\n",
      " [4 5 6]]\n",
      "Matrix B:\n",
      " [[ 7  8  9]\n",
      " [10 11 12]]\n",
      "Addition Result (A + B):\n",
      " [[ 8 10 12]\n",
      " [14 16 18]]\n",
      "Subtraction Result (A - B):\n",
      " [[-6 -6 -6]\n",
      " [-6 -6 -6]]\n"
     ]
    }
   ],
   "source": [
    "#Question 81. Create two matrices A and B of identical shape containing integers and perform addition and subtraction operations between them.\n",
    "\n",
    "import numpy as np\n",
    "\n",
    "# Step 1: Create two matrices of identical shape\n",
    "A = np.array([[1, 2, 3], [4, 5, 6]])\n",
    "B = np.array([[7, 8, 9], [10, 11, 12]])\n",
    "\n",
    "# Step 2: Perform addition\n",
    "addition_result = A + B\n",
    "\n",
    "# Step 3: Perform subtraction\n",
    "subtraction_result = A - B\n",
    "\n",
    "# Print the results\n",
    "print(\"Matrix A:\\n\", A)\n",
    "print(\"Matrix B:\\n\", B)\n",
    "print(\"Addition Result (A + B):\\n\", addition_result)\n",
    "print(\"Subtraction Result (A - B):\\n\", subtraction_result)\n"
   ]
  },
  {
   "cell_type": "code",
   "execution_count": 28,
   "metadata": {},
   "outputs": [
    {
     "name": "stdout",
     "output_type": "stream",
     "text": [
      "Matrix C:\n",
      " [[1 2]\n",
      " [3 4]\n",
      " [5 6]]\n",
      "Matrix D:\n",
      " [[ 7  8  9 10]\n",
      " [11 12 13 14]]\n",
      "Matrix Multiplication Result (C @ D):\n",
      " [[ 29  32  35  38]\n",
      " [ 65  72  79  86]\n",
      " [101 112 123 134]]\n"
     ]
    }
   ],
   "source": [
    "#Question 82. Generate two matrices `C` (3x2) and `D` (2x4) and perform matrix multiplication.\n",
    "\n",
    "import numpy as np\n",
    "\n",
    "# Step 1: Generate two matrices\n",
    "C = np.array([[1, 2], [3, 4], [5, 6]])  # Shape (3, 2)\n",
    "D = np.array([[7, 8, 9, 10], [11, 12, 13, 14]])  # Shape (2, 4)\n",
    "\n",
    "# Step 2: Perform matrix multiplication\n",
    "result = np.dot(C, D)\n",
    "# Alternatively, I can use:\n",
    "# result = C @ D\n",
    "\n",
    "# Print the result\n",
    "print(\"Matrix C:\\n\", C)\n",
    "print(\"Matrix D:\\n\", D)\n",
    "print(\"Matrix Multiplication Result (C @ D):\\n\", result)\n"
   ]
  },
  {
   "cell_type": "code",
   "execution_count": 29,
   "metadata": {},
   "outputs": [
    {
     "name": "stdout",
     "output_type": "stream",
     "text": [
      "Matrix E:\n",
      " [[1 2 3]\n",
      " [4 5 6]\n",
      " [7 8 9]]\n",
      "Transpose of Matrix E:\n",
      " [[1 4 7]\n",
      " [2 5 8]\n",
      " [3 6 9]]\n"
     ]
    }
   ],
   "source": [
    "#Question 83. Create a matrix `E` and find its transpose. \n",
    "import numpy as np\n",
    "\n",
    "# Step 1: Create a matrix E\n",
    "E = np.array([[1, 2, 3], [4, 5, 6], [7, 8, 9]])\n",
    "\n",
    "# Step 2: Find the transpose of E\n",
    "E_transpose = E.T\n",
    "# Alternatively, I can use:\n",
    "# E_transpose = np.transpose(E)\n",
    "\n",
    "# Print the original matrix and its transpose\n",
    "print(\"Matrix E:\\n\", E)\n",
    "print(\"Transpose of Matrix E:\\n\", E_transpose)\n"
   ]
  },
  {
   "cell_type": "code",
   "execution_count": 30,
   "metadata": {},
   "outputs": [
    {
     "name": "stdout",
     "output_type": "stream",
     "text": [
      "Matrix F:\n",
      " [[1 2 3]\n",
      " [4 5 6]\n",
      " [7 8 9]]\n",
      "Determinant of Matrix F:\n",
      " -9.51619735392994e-16\n"
     ]
    }
   ],
   "source": [
    "#Question84. Generate a square matrix `F` and compute its determinant. \n",
    "import numpy as np\n",
    "\n",
    "# Step 1: Generate a square matrix F\n",
    "F = np.array([[1, 2, 3], [4, 5, 6], [7, 8, 9]])\n",
    "\n",
    "# Step 2: Compute the determinant of F\n",
    "determinant = np.linalg.det(F)\n",
    "\n",
    "# Print the matrix and its determinant\n",
    "print(\"Matrix F:\\n\", F)\n",
    "print(\"Determinant of Matrix F:\\n\", determinant)\n",
    " "
   ]
  },
  {
   "cell_type": "code",
   "execution_count": 31,
   "metadata": {},
   "outputs": [
    {
     "name": "stdout",
     "output_type": "stream",
     "text": [
      "Matrix G:\n",
      " [[1 2 3]\n",
      " [0 1 4]\n",
      " [5 6 0]]\n",
      "Inverse of Matrix G:\n",
      " [[-24.  18.   5.]\n",
      " [ 20. -15.  -4.]\n",
      " [ -5.   4.   1.]]\n"
     ]
    }
   ],
   "source": [
    "#Question 85. Create a square matrix `G` and find its inverse. \n",
    "\n",
    "import numpy as np\n",
    "\n",
    "# Step 1: Creating a square matrix G\n",
    "G = np.array([[1, 2, 3], [0, 1, 4], [5, 6, 0]])\n",
    "\n",
    "# Step 2: Find the inverse of G\n",
    "# Check if the matrix is singular (determinant is not zero) before computing the inverse\n",
    "determinant = np.linalg.det(G)\n",
    "if determinant != 0:\n",
    "    G_inverse = np.linalg.inv(G)\n",
    "    print(\"Matrix G:\\n\", G)\n",
    "    print(\"Inverse of Matrix G:\\n\", G_inverse)\n",
    "else:\n",
    "    print(\"The matrix G is singular and does not have an inverse.\")\n"
   ]
  },
  {
   "cell_type": "code",
   "execution_count": null,
   "metadata": {},
   "outputs": [],
   "source": []
  },
  {
   "cell_type": "code",
   "execution_count": null,
   "metadata": {},
   "outputs": [],
   "source": []
  },
  {
   "cell_type": "code",
   "execution_count": null,
   "metadata": {},
   "outputs": [],
   "source": []
  },
  {
   "cell_type": "code",
   "execution_count": null,
   "metadata": {},
   "outputs": [],
   "source": []
  },
  {
   "cell_type": "code",
   "execution_count": null,
   "metadata": {},
   "outputs": [],
   "source": []
  },
  {
   "cell_type": "code",
   "execution_count": null,
   "metadata": {},
   "outputs": [],
   "source": []
  }
 ],
 "metadata": {
  "kernelspec": {
   "display_name": "base",
   "language": "python",
   "name": "python3"
  },
  "language_info": {
   "codemirror_mode": {
    "name": "ipython",
    "version": 3
   },
   "file_extension": ".py",
   "mimetype": "text/x-python",
   "name": "python",
   "nbconvert_exporter": "python",
   "pygments_lexer": "ipython3",
   "version": "3.11.7"
  }
 },
 "nbformat": 4,
 "nbformat_minor": 2
}
